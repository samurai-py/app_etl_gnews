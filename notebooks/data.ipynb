{
 "cells": [
  {
   "cell_type": "code",
   "execution_count": 11,
   "metadata": {},
   "outputs": [],
   "source": [
    "from flask import Flask\n",
    "from flask import request\n",
    "from flask import jsonify\n",
    "import pandas as pd\n",
    "import requests\n",
    "import json\n",
    "import urllib.request\n",
    "\n",
    "app = Flask(__name__)\n",
    "\n"
   ]
  },
  {
   "cell_type": "code",
   "execution_count": 18,
   "metadata": {},
   "outputs": [
    {
     "name": "stdout",
     "output_type": "stream",
     "text": [
      "Title: Economist fala em 'nova guerra fria' e aponta Taiwan como 'ponto de ignição'\n",
      "Description: Revista britânica sugere que os taiwanêses estejam \"prontos para fazer sacrifícios\" por sua \"liberdade\"\n"
     ]
    }
   ],
   "source": [
    "apikey = \"aaf421cd39a23adebb77ad9c18e7e438\"\n",
    "url = f\"https://gnews.io/api/v4/search?q=liberdade&lang=pt&country=br&max=10&apikey={apikey}\"\n",
    "\n",
    "with urllib.request.urlopen(url) as response:\n",
    "    data = json.loads(response.read().decode(\"utf-8\"))\n",
    "    articles = data[\"articles\"]\n",
    "\n",
    "    for i in range(len(articles)):\n",
    "        # articles[i].title\n",
    "        print(f\"Title: {articles[i]['title']}\")\n",
    "        # articles[i].description\n",
    "        print(f\"Description: {articles[i]['description']}\")\n",
    "        # You can replace {property} below with any of the article properties returned by the API.\n",
    "        # articles[i].{property}\n",
    "        # print(f\"{articles[i]['{property}']}\")\n",
    "\n",
    "        # Delete this line to display all the articles returned by the request. Currently only the first article is displayed.\n",
    "        break"
   ]
  },
  {
   "cell_type": "code",
   "execution_count": 36,
   "metadata": {},
   "outputs": [],
   "source": [
    "\n",
    "url_sa = \"https://api.meaningcloud.com/sentiment-2.1\"\n",
    "key_sa = \"76dba976cdc2a85a79b3452591793cd0\"\n",
    "\n",
    "def get_sentiment(text):\n",
    "    payload = {\n",
    "        'key': key_sa,\n",
    "        'txt': text,\n",
    "        'lang': 'pt'  # definir o idioma do texto aqui\n",
    "    }\n",
    "    response = requests.post(url_sa, data=payload)\n",
    "    if response.status_code == 200:\n",
    "        result = response.json()\n",
    "        return result['score_tag']\n",
    "    else:\n",
    "        return None"
   ]
  },
  {
   "cell_type": "code",
   "execution_count": 32,
   "metadata": {},
   "outputs": [],
   "source": [
    "df = pd.DataFrame(data=articles)\n",
    "df = df[['title', 'description']]"
   ]
  },
  {
   "cell_type": "code",
   "execution_count": 34,
   "metadata": {},
   "outputs": [],
   "source": [
    "df['news'] = df.apply(lambda row: f'Título: {row[\"title\"]} \\n Descrição: {row[\"description\"]}', axis=1)\n"
   ]
  },
  {
   "cell_type": "code",
   "execution_count": 37,
   "metadata": {},
   "outputs": [],
   "source": [
    "df['sentiment'] = df['news'].apply(get_sentiment)\n",
    "df['sentiment'] = df['sentiment'].apply(lambda x: 'NEUTRO' if x == 'NEU' else 'POSITIVO' if x == 'P' else 'NEGATIVO' if x == 'N' else 'Outros')"
   ]
  },
  {
   "cell_type": "code",
   "execution_count": 43,
   "metadata": {},
   "outputs": [],
   "source": [
    "df_final = df[['news', 'sentiment']]\n",
    "df_final.to_csv('g1_news.csv')"
   ]
  },
  {
   "attachments": {},
   "cell_type": "markdown",
   "metadata": {},
   "source": [
    "Código Antigo (Funcionando, porém, sem tratamento de erros)"
   ]
  },
  {
   "cell_type": "code",
   "execution_count": null,
   "metadata": {},
   "outputs": [],
   "source": [
    "'''from flask import Flask\n",
    "from flask import request\n",
    "from flask import jsonify\n",
    "from config.apikey import apikey\n",
    "from functions import get_sentiment\n",
    "import pandas as pd\n",
    "import requests\n",
    "import json\n",
    "import urllib.request\n",
    "\n",
    "app = Flask(__name__)\n",
    "\n",
    "\n",
    "# Configurando a api de coleta de dados\n",
    "url = f\"https://gnews.io/api/v4/search?q=liberdade&lang=pt&country=br&max=10&apikey={apikey}\"\n",
    "\n",
    "with urllib.request.urlopen(url) as response:\n",
    "    data = json.loads(response.read().decode(\"utf-8\"))\n",
    "    articles = data[\"articles\"]\n",
    "\n",
    "# lê o arquivo csv\n",
    "news = pd.read_csv('g1_news.csv')\n",
    "\n",
    "# endpoint que retorna todos os dados do dataframe\n",
    "@app.route('/data', methods=['GET'])\n",
    "def get_data():\n",
    "    return jsonify(news.to_dict(orient='records'))\n",
    "\n",
    "# endpoint que insere novos dados no dataframe\n",
    "@app.route('/data', methods=['POST'])\n",
    "def add_data():\n",
    "    data = request.json\n",
    "    news = news.append(data, ignore_index=True)\n",
    "    news.to_csv('g1_news.csv', index=False)\n",
    "    return jsonify({\"message\": \"Dados adicionados com sucesso.\"}), 201\n",
    "\n",
    "# endpoint que retorna um registro específico do dataframe\n",
    "@app.route('/data/<id>', methods=['GET'])\n",
    "def get_data_by_id(id):\n",
    "    data = news.loc[news['id'] == id]\n",
    "    if data.empty:\n",
    "        return jsonify({\"message\": \"Registro não encontrado.\"}), 404\n",
    "    return jsonify(data.to_dict(orient='records'))\n",
    "\n",
    "# endpoint que atualiza um registro específico do dataframe\n",
    "@app.route('/data/<id>', methods=['PUT'])\n",
    "def update_data(id):\n",
    "    data = request.json\n",
    "    updated_data = news.loc[news['id'] == id]\n",
    "    if updated_data.empty:\n",
    "        return jsonify({\"message\": \"Registro não encontrado.\"}), 404\n",
    "    updated_data.update(data)\n",
    "    news.to_csv('g1_news.csv', index=False)\n",
    "    return jsonify({\"message\": \"Dados atualizados com sucesso.\"}), 200\n",
    "\n",
    "# endpoint que exclui um registro específico do dataframe\n",
    "@app.route('/data/<id>', methods=['DELETE'])\n",
    "def delete_data(id):\n",
    "    deleted_data = news.loc[news['id'] == id]\n",
    "    if deleted_data.empty:\n",
    "        return jsonify({\"message\": \"Registro não encontrado.\"}), 404\n",
    "    news.drop(news[news['id'] == id].index, inplace=True)\n",
    "    news.to_csv('g1_news.csv', index=False)\n",
    "    return jsonify({\"message\": \"Registro excluído com sucesso.\"}), 200\n",
    "\n",
    "    \n",
    "if __name__ == '__main__':\n",
    "    app.run()\n",
    "'''"
   ]
  }
 ],
 "metadata": {
  "kernelspec": {
   "display_name": "cursoemvideo",
   "language": "python",
   "name": "python3"
  },
  "language_info": {
   "codemirror_mode": {
    "name": "ipython",
    "version": 3
   },
   "file_extension": ".py",
   "mimetype": "text/x-python",
   "name": "python",
   "nbconvert_exporter": "python",
   "pygments_lexer": "ipython3",
   "version": "3.9.7"
  },
  "orig_nbformat": 4
 },
 "nbformat": 4,
 "nbformat_minor": 2
}
